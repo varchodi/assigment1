{
 "cells": [
  {
   "cell_type": "markdown",
   "metadata": {},
   "source": [
    "__Zigashane Robert__  \n",
    "__M23B23/041__  \n",
    "__B21296__  \n",
    "\n",
    "_Assigment DSA_"
   ]
  },
  {
   "cell_type": "markdown",
   "metadata": {},
   "source": [
    "### Question 1\n",
    "\n",
    "There once was a hat. The hat contained no rabbit, but a list of five numbers: 1, 2, 3, 4, and 5.\n",
    "\n",
    "Your task is to:\n",
    "\n",
    "write a line of code that prompts the user to replace the middle number in the list with an integer number entered by the user (Step 1)\n",
    "write a line of code that removes the last element from the list (Step 2)\n",
    "write a line of code that prints the length of the existing list (Step 3)."
   ]
  },
  {
   "cell_type": "code",
   "execution_count": null,
   "metadata": {},
   "outputs": [
    {
     "ename": "",
     "evalue": "",
     "output_type": "error",
     "traceback": [
      "\u001b[1;31mRunning cells with 'c:\\Users\\green\\AppData\\Local\\Microsoft\\WindowsApps\\python3.11.exe' requires the ipykernel package.\n",
      "\u001b[1;31mRun the following command to install 'ipykernel' into the Python environment. \n",
      "\u001b[1;31mCommand: 'c:/Users/green/AppData/Local/Microsoft/WindowsApps/python3.11.exe -m pip install ipykernel -U --user --force-reinstall'"
     ]
    }
   ],
   "source": [
    "numbers:list[numbers]=[1,2,3,4,5]\n",
    "temp_num:int=int(input(\"enter num  that will replace the middle number\"))\n",
    "#replace the middle element with input\n",
    "numbers[round(len(numbers)/2)]=temp_num\n",
    "#remove last element\n",
    "numbers.pop()\n",
    "#print len of list\n",
    "print(f\"len is: {len(temp_num)}\")"
   ]
  },
  {
   "cell_type": "markdown",
   "metadata": {},
   "source": [
    "### Question 2 \n",
    "Scenario\n",
    "The Beatles were one of the most popular music group of the 1960s, and the best-selling band in history. Some people consider them to be the most influential act of the rock era. Indeed, they were included in Time magazine's compilation of the 20th Century's 100 most influential people.\n",
    "\n",
    "The band underwent many line-up changes, culminating in 1962 with the line-up of John Lennon, Paul McCartney, George Harrison, and Richard Starkey (better known as Ringo Starr).\n",
    "\n",
    "\n",
    "Write a program that reflects these changes and lets you practice with the concept of lists. Your task is to:\n",
    "\n",
    "step 1: create an empty list named beatles;\n",
    "step 2: use the append() method to add the following members of the band to the list: John Lennon, Paul McCartney, and George Harrison;\n",
    "step 3: use the for loop and the append() method to prompt the user to add the following members of the band to the list: Stu Sutcliffe, and Pete Best;\n",
    "step 4: use the del instruction to remove Stu Sutcliffe and Pete Best from the list;\n",
    "step 5: use the insert() method to add Ringo Starr to the beginning of the list."
   ]
  },
  {
   "cell_type": "code",
   "execution_count": null,
   "metadata": {},
   "outputs": [],
   "source": [
    "battles:list[str]=[]\n",
    "battles.append(\"John Lennon\", \"Paul McCartney\", \"George Harrison\")\n",
    "for i in range(1):\n",
    "    #ask user to enter Stu Sutcliffe, and Pete Best \n",
    "    temp_in:str=str(input(\"Enter the other two\"))\n",
    "    battles.append(temp_in)\n",
    "#delete Stu Sutcliffe , (is the 2nd last element)\n",
    "del battles[-2]\n",
    "#add Ringo Starr at the beggining\n",
    "battles.insert(\"Ringo Starr\")"
   ]
  },
  {
   "cell_type": "markdown",
   "metadata": {},
   "source": [
    "### Question 3\n",
    "\n",
    "Scenario\n",
    "Imagine a list - not very long, not very complicated, just a simple list containing some integer numbers. Some of these numbers may be repeated, and this is the clue. We don't want any repetitions. We want them to be removed.\n",
    "\n",
    "Your task is to write a program which removes all the number repetitions from the list. The goal is to have a list in which all the numbers appear not more than once.\n",
    "\n",
    "Note: assume that the source list is hard-coded inside the code - you don't have to enter it from the keyboard. Of course, you can improve the code and add a part that can carry out a conversation with the user and obtain all the data from her/him.\n",
    "\n",
    "Hint: we encourage you to create a new list as a temporary work area - you don't need to update the list in situ."
   ]
  },
  {
   "cell_type": "code",
   "execution_count": null,
   "metadata": {},
   "outputs": [],
   "source": [
    "my_list = [1, 2, 4, 4, 1, 4, 2, 6, 2, 9]\n",
    "#\n",
    "# Write your code here.\n",
    "temp_list:list[int]=[]\n",
    "for n in my_list:\n",
    "    if not n in temp_list:\n",
    "        temp_list.append(n)\n",
    "my_list=temp_list\n",
    "#\n",
    "print(\"The list with unique elements only:\")\n",
    "print(my_list)"
   ]
  }
 ],
 "metadata": {
  "kernelspec": {
   "display_name": "Python 3",
   "language": "python",
   "name": "python3"
  },
  "language_info": {
   "name": "python",
   "version": "3.11.6"
  }
 },
 "nbformat": 4,
 "nbformat_minor": 2
}
